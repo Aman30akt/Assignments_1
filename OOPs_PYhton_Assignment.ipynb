{
  "nbformat": 4,
  "nbformat_minor": 0,
  "metadata": {
    "colab": {
      "provenance": []
    },
    "kernelspec": {
      "name": "python3",
      "display_name": "Python 3"
    },
    "language_info": {
      "name": "python"
    }
  },
  "cells": [
    {
      "cell_type": "markdown",
      "source": [
        "# OOP in Python Assignment\n",
        "\n",
        "---\n",
        "\n",
        "## 1. What is Object-Oriented Programming (OOP)?\n",
        "Object-Oriented Programming (OOP) is a programming paradigm that organizes code into reusable units called **objects**, which bundle **data (attributes)** and **behavior (methods)** together. It focuses on principles like **abstraction, encapsulation, inheritance, and polymorphism**.\n",
        "\n",
        "---\n",
        "\n",
        "## 2. What is a class in OOP?\n",
        "A **class** is a blueprint or template for creating objects. It defines the **attributes (variables)** and **methods (functions)** that the created objects (instances) will have.\n",
        "\n",
        "---\n",
        "\n",
        "## 3. What is an object in OOP?\n",
        "An **object** is an **instance** of a class. It represents a real-world entity with its own **state (attributes)** and **behavior (methods)**.\n",
        "\n",
        "---\n",
        "\n",
        "## 4. Difference between abstraction and encapsulation\n",
        "- **Abstraction**: Hides implementation details and exposes only the necessary functionality (*what to do*).  \n",
        "- **Encapsulation**: Restricts direct access to data by wrapping variables and methods inside a class (*how the data is protected*).\n",
        "\n",
        "---\n",
        "\n",
        "## 5. What are dunder methods in Python?\n",
        "**Dunder (double underscore) methods** are special methods with names surrounded by `__`, e.g., `__init__`, `__str__`, `__len__`.  \n",
        "They allow classes to implement and customize built-in Python behavior.\n",
        "\n",
        "---\n",
        "\n",
        "## 6. Explain inheritance in OOP\n",
        "**Inheritance** allows a class (child/subclass) to acquire properties and methods from another class (parent/superclass).  \n",
        "It promotes **code reuse** and establishes hierarchical relationships.\n",
        "\n",
        "---\n",
        "\n",
        "## 7. What is polymorphism in OOP?\n",
        "**Polymorphism** means \"many forms\" — the ability of different classes to provide different implementations of the same method or interface.  \n",
        "Example: different shapes implementing the same `area()` method.\n",
        "\n",
        "---\n",
        "\n",
        "## 8. How is encapsulation achieved in Python?\n",
        "Encapsulation is achieved by using **access modifiers**:\n",
        "- Public (`variable`)  \n",
        "- Protected (`_variable`)  \n",
        "- Private (`__variable`)  \n",
        "\n",
        "Python relies on naming conventions rather than strict enforcement.\n",
        "\n",
        "---\n",
        "\n",
        "## 9. What is a constructor in Python?\n",
        "A **constructor** is a special method `__init__()` that is automatically called when a new object is created.  \n",
        "It initializes the object’s attributes.\n",
        "\n",
        "---\n",
        "\n",
        "## 10. Class and static methods in Python\n",
        "- **Class method** (`@classmethod`): Takes `cls` as the first argument and can modify class-level data.  \n",
        "- **Static method** (`@staticmethod`): Does not take `self` or `cls` and behaves like a normal function inside a class.\n",
        "\n",
        "---\n",
        "\n",
        "## 11. What is method overloading in Python?\n",
        "Python does **not support true method overloading** (same name, different signatures).  \n",
        "Instead, default arguments and `*args/**kwargs` are used to mimic overloading.\n",
        "\n",
        "---\n",
        "\n",
        "## 12. What is method overriding in OOP?\n",
        "**Method overriding** occurs when a subclass provides a new implementation of a method already defined in the parent class.\n",
        "\n",
        "---\n",
        "\n",
        "## 13. What is a property decorator in Python?\n",
        "The **`@property` decorator** allows a method to be accessed like an attribute, providing a **getter/setter** mechanism for cleaner code.\n",
        "\n",
        "---\n",
        "\n",
        "## 14. Why is polymorphism important in OOP?\n",
        "Polymorphism promotes **flexibility and reusability**, allowing code to work with objects of different types through a common interface.\n",
        "\n",
        "---\n",
        "\n",
        "## 15. What is an abstract class in Python?\n",
        "An **abstract class** is a class that cannot be instantiated directly.  \n",
        "It may contain abstract methods (defined with `@abstractmethod`) that must be implemented by subclasses.  \n",
        "Defined using the `abc` module.\n",
        "\n",
        "---\n",
        "\n",
        "## 16. Advantages of OOP\n",
        "- Code reusability  \n",
        "- Modularity and maintainability  \n",
        "- Data security (encapsulation)  \n",
        "- Flexibility through polymorphism  \n",
        "- Clear structure for complex programs  \n",
        "\n",
        "---\n",
        "\n",
        "## 17. Difference between a class variable and an instance variable\n",
        "- **Class variable**: Shared by all objects of a class, defined outside any method.  \n",
        "- **Instance variable**: Unique to each object, usually defined inside `__init__`.\n",
        "\n",
        "---\n",
        "\n",
        "## 18. What is multiple inheritance in Python?\n",
        "**Multiple inheritance** allows a class to inherit attributes and methods from more than one parent class.  \n",
        "Python uses the **Method Resolution Order (MRO)** to resolve conflicts.\n",
        "\n",
        "---\n",
        "\n",
        "## 19. Purpose of `__str__` and `__repr__`\n",
        "- **`__str__`**: Returns a human-readable string (used by `print()`).  \n",
        "- **`__repr__`**: Returns an unambiguous string, ideally usable to recreate the object (used in debugging and console).\n",
        "\n",
        "---\n",
        "\n",
        "## 20. What is the significance of `super()` in Python?\n",
        "`super()` is used to call methods from a parent class, typically inside an overridden method.  \n",
        "It helps maintain proper inheritance chains.\n",
        "\n",
        "---\n",
        "\n",
        "## 21. What is the significance of `__del__` in Python?\n",
        "`__del__` is a **destructor** method called when an object is about to be destroyed.  \n",
        "It is used for cleanup (like closing files or releasing resources).\n",
        "\n",
        "---\n",
        "\n",
        "## 22. Difference between `@staticmethod` and `@classmethod`\n",
        "- `@staticmethod`: No access to class or instance (`cls`/`self`). Acts like a plain function.  \n",
        "- `@classmethod`: Has access to the class (`cls`) but not to instance-specific data.\n",
        "\n",
        "---\n",
        "\n",
        "## 23. How does polymorphism work in Python with inheritance?\n",
        "Polymorphism allows a subclass to **override parent methods**, and when called on a parent reference, the **subclass’s implementation** is executed (runtime polymorphism).\n",
        "\n",
        "---\n",
        "\n",
        "## 24. What is method chaining in Python OOP?\n",
        "**Method chaining** is when methods return the object itself (`return self`) so that multiple methods can be called in a single line:  \n",
        "```python\n",
        "obj.method1().method2().method3()\n",
        "\n",
        "---\n",
        "\n",
        "## 25. What is the purpose of the __call__ method in Python?\n",
        "\n",
        "**The __call__ method makes an object callable like a function.\n",
        "Defining it in a class allows instances to be invoked as functions.\n"
      ],
      "metadata": {
        "id": "iZiqt-H5lwoP"
      }
    },
    {
      "cell_type": "code",
      "source": [
        "##  Create a parent class Animal with a method speak() that prints a generic message. Create a child class Dog that overrides the speak() method to print \"Bark!\".\n",
        "\n",
        "class Animal:\n",
        "    def speak(self):\n",
        "        print(\"Generic animal sound\")\n",
        "\n",
        "class Dog(Animal):\n",
        "    def speak(self):\n",
        "        print(\"Bark!\")"
      ],
      "metadata": {
        "id": "wDd0j5R4iqJa"
      },
      "execution_count": 5,
      "outputs": []
    },
    {
      "cell_type": "code",
      "source": [
        "a = Animal()\n",
        "a.speak()"
      ],
      "metadata": {
        "colab": {
          "base_uri": "https://localhost:8080/"
        },
        "id": "rgTMrcogm9b8",
        "outputId": "d252f9d4-d82f-46a6-f18f-565a78e671d3"
      },
      "execution_count": 6,
      "outputs": [
        {
          "output_type": "stream",
          "name": "stdout",
          "text": [
            "Generic animal sound\n"
          ]
        }
      ]
    },
    {
      "cell_type": "code",
      "source": [
        "d = Dog()\n",
        "d.speak()"
      ],
      "metadata": {
        "colab": {
          "base_uri": "https://localhost:8080/"
        },
        "id": "iomrWt0yng4_",
        "outputId": "a174f160-6042-4899-bea5-3c64de79f048"
      },
      "execution_count": 7,
      "outputs": [
        {
          "output_type": "stream",
          "name": "stdout",
          "text": [
            "Bark!\n"
          ]
        }
      ]
    },
    {
      "cell_type": "code",
      "source": [
        " ##Write a program to create an abstract class Shape with a method area(). Derive classes Circle and Rectangle from it and implement the area() method in both.\n",
        "\n",
        " from abc import ABC, abstractmethod\n",
        "import math\n",
        "\n",
        "class Shape(ABC):\n",
        "    @abstractmethod\n",
        "    def area(self):\n",
        "        pass\n",
        "\n",
        "class Circle(Shape):\n",
        "    def __init__(self, radius):\n",
        "        self.radius = radius\n",
        "\n",
        "    def area(self):\n",
        "        return math.pi * self.radius * self.radius\n",
        "\n",
        "class Rectangle(Shape):\n",
        "    def __init__(self, length, width):\n",
        "        self.length = length\n",
        "        self.width = width\n",
        "\n",
        "    def area(self):\n",
        "        return self.length * self.width\n",
        "\n",
        "shapes = [Circle(5), Rectangle(4, 6)]\n",
        "\n",
        "for s in shapes:\n",
        "    print(f\"{s.__class__.__name__} Area:\", s.area())\n",
        "\n"
      ],
      "metadata": {
        "colab": {
          "base_uri": "https://localhost:8080/"
        },
        "id": "UhXFoZv7nlkQ",
        "outputId": "5327c404-3c07-4c80-a254-cfc42ddc9c39"
      },
      "execution_count": 8,
      "outputs": [
        {
          "output_type": "stream",
          "name": "stdout",
          "text": [
            "Circle Area: 78.53981633974483\n",
            "Rectangle Area: 24\n"
          ]
        }
      ]
    },
    {
      "cell_type": "code",
      "source": [
        "##3. Implement a multi-level inheritance scenario where a class Vehicle has an attribute type. Derive a class Car and further derive a class ElectricCar that adds a battery attribute.\n",
        "\n",
        "class Vehicle:\n",
        "    def __init__(self, vehicle_type):\n",
        "        self.type = vehicle_type\n",
        "\n",
        "class Car(Vehicle):\n",
        "    def __init__(self, vehicle_type, brand):\n",
        "        super().__init__(vehicle_type)\n",
        "        self.brand = brand\n",
        "\n",
        "class ElectricCar(Car):\n",
        "    def __init__(self, vehicle_type, brand, battery):\n",
        "        super().__init__(vehicle_type, brand)\n",
        "        self.battery = battery\n",
        "\n",
        "ecar = ElectricCar(\"Four Wheeler\", \"Tesla\", \"85 kWh\")\n",
        "\n",
        "print(\"Type:\", ecar.type)\n",
        "print(\"Brand:\", ecar.brand)\n",
        "print(\"Battery:\", ecar.battery)\n"
      ],
      "metadata": {
        "colab": {
          "base_uri": "https://localhost:8080/"
        },
        "id": "jyV3mjHwn-Y0",
        "outputId": "2e801853-e1e7-4858-f50f-7209c1e56b36"
      },
      "execution_count": 9,
      "outputs": [
        {
          "output_type": "stream",
          "name": "stdout",
          "text": [
            "Type: Four Wheeler\n",
            "Brand: Tesla\n",
            "Battery: 85 kWh\n"
          ]
        }
      ]
    },
    {
      "cell_type": "code",
      "source": [
        " ##  Demonstrate polymorphism by creating a base class Bird with a method fly(). Create two derived classes Sparrow and Penguin that override the fly() method.\n",
        "\n",
        "class Bird:\n",
        "    def fly(self):\n",
        "        print(\"Some birds can fly\")\n",
        "\n",
        "class Sparrow(Bird):\n",
        "    def fly(self):\n",
        "        print(\"Sparrow flies high in the sky\")\n",
        "\n",
        "class Penguin(Bird):\n",
        "    def fly(self):\n",
        "        print(\"Penguins cannot fly, they swim instead\")\n",
        "\n",
        "birds = [Sparrow(), Penguin()]\n",
        "\n",
        "for b in birds:\n",
        "    b.fly()\n",
        "\n"
      ],
      "metadata": {
        "colab": {
          "base_uri": "https://localhost:8080/"
        },
        "id": "9arSND72oJVE",
        "outputId": "13c2f427-ec73-4f7d-b05c-34f8eab3b69a"
      },
      "execution_count": 10,
      "outputs": [
        {
          "output_type": "stream",
          "name": "stdout",
          "text": [
            "Sparrow flies high in the sky\n",
            "Penguins cannot fly, they swim instead\n"
          ]
        }
      ]
    },
    {
      "cell_type": "code",
      "source": [
        "##  Write a program to demonstrate encapsulation by creating a class BankAccount with private attributes balance and methods to deposit, withdraw, and check balance.\n",
        "\n",
        "class BankAccount:\n",
        "    def __init__(self, initial_balance=0):\n",
        "        self.__balance = initial_balance   # private attribute\n",
        "\n",
        "    def deposit(self, amount):\n",
        "        if amount > 0:\n",
        "            self.__balance += amount\n",
        "            print(f\"Deposited: {amount}\")\n",
        "        else:\n",
        "            print(\"Invalid deposit amount\")\n",
        "\n",
        "    def withdraw(self, amount):\n",
        "        if 0 < amount <= self.__balance:\n",
        "            self.__balance -= amount\n",
        "            print(f\"Withdrew: {amount}\")\n",
        "        else:\n",
        "            print(\"Insufficient balance or invalid amount\")\n",
        "\n",
        "    def check_balance(self):\n",
        "        print(f\"Current Balance: {self.__balance}\")\n",
        "\n"
      ],
      "metadata": {
        "id": "S8yW49AWoTBQ"
      },
      "execution_count": 11,
      "outputs": []
    },
    {
      "cell_type": "code",
      "source": [
        "\n",
        "account = BankAccount(1000)\n",
        "account.deposit(500)\n",
        "account.withdraw(300)\n",
        "account.check_balance()\n"
      ],
      "metadata": {
        "colab": {
          "base_uri": "https://localhost:8080/"
        },
        "id": "UJqK60ObogVi",
        "outputId": "fbf5eeb8-94b3-4225-d1db-e9f07e3ef9f7"
      },
      "execution_count": 12,
      "outputs": [
        {
          "output_type": "stream",
          "name": "stdout",
          "text": [
            "Deposited: 500\n",
            "Withdrew: 300\n",
            "Current Balance: 1200\n"
          ]
        }
      ]
    },
    {
      "cell_type": "code",
      "source": [
        "##  Demonstrate runtime polymorphism using a method play() in a base class Instrument. Derive classes Guitar and Piano that implement their own version of play().\n",
        "\n",
        "class Instrument:\n",
        "    def play(self):\n",
        "        print(\"Playing an instrument\")\n",
        "\n",
        "class Guitar(Instrument):\n",
        "    def play(self):\n",
        "        print(\"Strumming the guitar\")\n",
        "\n",
        "class Piano(Instrument):\n",
        "    def play(self):\n",
        "        print(\"Playing the piano\")\n",
        "\n",
        "instruments = [Guitar(), Piano()]\n",
        "\n",
        "for i in instruments:\n",
        "    i.play()\n"
      ],
      "metadata": {
        "colab": {
          "base_uri": "https://localhost:8080/"
        },
        "id": "eEJpnnEQoiVV",
        "outputId": "76cec744-db60-487e-8d11-6e09a0752a92"
      },
      "execution_count": 13,
      "outputs": [
        {
          "output_type": "stream",
          "name": "stdout",
          "text": [
            "Strumming the guitar\n",
            "Playing the piano\n"
          ]
        }
      ]
    },
    {
      "cell_type": "code",
      "source": [
        " ## Create a class MathOperations with a class method add_numbers() to add two numbers and a static method subtract_numbers() to subtract two numbers.\n",
        "\n",
        " class MathOperations:\n",
        "    @classmethod\n",
        "    def add_numbers(cls, a, b):\n",
        "        return a + b\n",
        "\n",
        "    @staticmethod\n",
        "    def subtract_numbers(a, b):\n",
        "        return a - b\n",
        "\n"
      ],
      "metadata": {
        "id": "UMu4bgm3oqwA"
      },
      "execution_count": 14,
      "outputs": []
    },
    {
      "cell_type": "code",
      "source": [
        "print(\"Addition:\", MathOperations.add_numbers(10, 5))\n",
        "print(\"Subtraction:\", MathOperations.subtract_numbers(10, 5))\n"
      ],
      "metadata": {
        "colab": {
          "base_uri": "https://localhost:8080/"
        },
        "id": "6MvrbhAIo2oB",
        "outputId": "83363fbd-4a9b-4cf1-f69d-72e9dbcfa2d6"
      },
      "execution_count": 15,
      "outputs": [
        {
          "output_type": "stream",
          "name": "stdout",
          "text": [
            "Addition: 15\n",
            "Subtraction: 5\n"
          ]
        }
      ]
    },
    {
      "cell_type": "code",
      "source": [
        "## Implement a class Person with a class method to count the total number of persons created.\n",
        "\n",
        "class Person:\n",
        "    count = 0\n",
        "\n",
        "    def __init__(self, name):\n",
        "        self.name = name\n",
        "        Person.count += 1\n",
        "\n",
        "    @classmethod\n",
        "    def total_persons(cls):\n",
        "        return cls.count\n",
        "\n"
      ],
      "metadata": {
        "id": "ogHE1sflo34m"
      },
      "execution_count": 16,
      "outputs": []
    },
    {
      "cell_type": "code",
      "source": [
        "p1 = Person(\"Alice\")\n",
        "p2 = Person(\"Bob\")\n",
        "p3 = Person(\"Charlie\")\n",
        "\n",
        "print(\"Total persons created:\", Person.total_persons())\n"
      ],
      "metadata": {
        "colab": {
          "base_uri": "https://localhost:8080/"
        },
        "id": "NQUwXPAFpCfx",
        "outputId": "ab28790a-4852-486b-b967-baf773415540"
      },
      "execution_count": 17,
      "outputs": [
        {
          "output_type": "stream",
          "name": "stdout",
          "text": [
            "Total persons created: 3\n"
          ]
        }
      ]
    },
    {
      "cell_type": "code",
      "source": [
        " ##  Write a class Fraction with attributes numerator and denominator. Override the str method to display the fraction as \"numerator/denominator\".\n",
        "\n",
        " class Fraction:\n",
        "    def __init__(self, numerator, denominator):\n",
        "        self.numerator = numerator\n",
        "        self.denominator = denominator\n",
        "\n",
        "    def __str__(self):\n",
        "        return f\"{self.numerator}/{self.denominator}\"\n",
        "\n"
      ],
      "metadata": {
        "id": "Tt-6vKvmpC8z"
      },
      "execution_count": 18,
      "outputs": []
    },
    {
      "cell_type": "code",
      "source": [
        "f1 = Fraction(3, 4)\n",
        "f2 = Fraction(7, 2)\n",
        "\n",
        "print(f1)\n",
        "print(f2)\n",
        "\n"
      ],
      "metadata": {
        "colab": {
          "base_uri": "https://localhost:8080/"
        },
        "id": "GhwfWx7kpPs6",
        "outputId": "37ed9c7a-d228-4b5f-9c61-5713e9beafac"
      },
      "execution_count": 19,
      "outputs": [
        {
          "output_type": "stream",
          "name": "stdout",
          "text": [
            "3/4\n",
            "7/2\n"
          ]
        }
      ]
    },
    {
      "cell_type": "code",
      "source": [
        "##  Demonstrate operator overloading by creating a class Vector and overriding the add method to add two vectors.\n",
        "\n",
        "class Vector:\n",
        "    def __init__(self, x, y):\n",
        "        self.x = x\n",
        "        self.y = y\n",
        "\n",
        "    def __add__(self, other):\n",
        "        return Vector(self.x + other.x, self.y + other.y)\n",
        "\n",
        "    def __str__(self):\n",
        "        return f\"Vector({self.x}, {self.y})\"\n",
        "\n",
        "\n"
      ],
      "metadata": {
        "id": "RPI35wLLpQUC"
      },
      "execution_count": 21,
      "outputs": []
    },
    {
      "cell_type": "code",
      "source": [
        "v1 = Vector(2, 3)\n",
        "v2 = Vector(4, 5)\n",
        "v3 = v1 + v2\n",
        "\n",
        "print(v1)\n",
        "print(v2)\n",
        "print(v3)"
      ],
      "metadata": {
        "colab": {
          "base_uri": "https://localhost:8080/"
        },
        "id": "FDSvVKCcpYGT",
        "outputId": "17cac7de-4028-46c6-cd9d-83629268b68f"
      },
      "execution_count": 22,
      "outputs": [
        {
          "output_type": "stream",
          "name": "stdout",
          "text": [
            "Vector(2, 3)\n",
            "Vector(4, 5)\n",
            "Vector(6, 8)\n"
          ]
        }
      ]
    },
    {
      "cell_type": "code",
      "source": [
        "##  Create a class Person with attributes name and age. Add a method greet() that prints \"Hello, my name is {name} and I am {age} years old.\"\n",
        "\n",
        "class Person:\n",
        "    def __init__(self, name, age):\n",
        "        self.name = name\n",
        "        self.age = age\n",
        "\n",
        "    def greet(self):\n",
        "        print(f\"Hello, my name is {self.name} and I am {self.age} years old.\")\n",
        "\n",
        "p1 = Person(\"Alice\", 25)\n",
        "p1.greet()\n"
      ],
      "metadata": {
        "colab": {
          "base_uri": "https://localhost:8080/"
        },
        "id": "GwBkX1u2pihZ",
        "outputId": "c0b401b2-7f6f-4afe-ef67-752502ee4970"
      },
      "execution_count": 23,
      "outputs": [
        {
          "output_type": "stream",
          "name": "stdout",
          "text": [
            "Hello, my name is Alice and I am 25 years old.\n"
          ]
        }
      ]
    },
    {
      "cell_type": "code",
      "source": [
        " ## . Implement a class Student with attributes name and grades. Create a method average_grade() to compute the average of the grades.\n",
        "\n",
        " class Student:\n",
        "    def __init__(self, name, grades):\n",
        "        self.name = name\n",
        "        self.grades = grades\n",
        "\n",
        "    def average_grade(self):\n",
        "        if len(self.grades) == 0:\n",
        "            return 0\n",
        "        return sum(self.grades) / len(self.grades)\n",
        "\n"
      ],
      "metadata": {
        "id": "oUD3RhgVp1V6"
      },
      "execution_count": 24,
      "outputs": []
    },
    {
      "cell_type": "code",
      "source": [
        "s1 = Student(\"John\", [85, 90, 78, 92])\n",
        "print(f\"{s1.name}'s Average Grade:\", s1.average_grade())\n"
      ],
      "metadata": {
        "colab": {
          "base_uri": "https://localhost:8080/"
        },
        "id": "0cuc3MoCp_-Y",
        "outputId": "4a929676-fb51-4b90-a120-5e2017790d8f"
      },
      "execution_count": 25,
      "outputs": [
        {
          "output_type": "stream",
          "name": "stdout",
          "text": [
            "John's Average Grade: 86.25\n"
          ]
        }
      ]
    },
    {
      "cell_type": "code",
      "source": [
        "## 13. Create a class Rectangle with methods set_dimensions() to set the dimensions and area() to calculate the area\n",
        "\n",
        "class Rectangle:\n",
        "    def __init__(self):\n",
        "        self.length = 0\n",
        "        self.width = 0\n",
        "\n",
        "    def set_dimensions(self, length, width):\n",
        "        self.length = length\n",
        "        self.width = width\n",
        "\n",
        "    def area(self):\n",
        "        return self.length * self.width\n",
        "\n"
      ],
      "metadata": {
        "id": "RtQEZqZ0qAg4"
      },
      "execution_count": 27,
      "outputs": []
    },
    {
      "cell_type": "code",
      "source": [
        "rect = Rectangle()\n",
        "rect.set_dimensions(5, 10)\n",
        "print(\"Area of Rectangle:\", rect.area())\n"
      ],
      "metadata": {
        "colab": {
          "base_uri": "https://localhost:8080/"
        },
        "id": "iwEZqZ5RqPR7",
        "outputId": "d56187af-687c-43dc-eee6-06bd4a8c54d0"
      },
      "execution_count": 28,
      "outputs": [
        {
          "output_type": "stream",
          "name": "stdout",
          "text": [
            "Area of Rectangle: 50\n"
          ]
        }
      ]
    },
    {
      "cell_type": "code",
      "source": [
        "##  Create a class Employee with a method calculate_salary() that computes the salary based on hours worked and hourly rate. Create a derived class Manager that adds a bonus to the salary.\n",
        "\n",
        "class Employee:\n",
        "    def __init__(self, hours_worked, hourly_rate):\n",
        "        self.hours_worked = hours_worked\n",
        "        self.hourly_rate = hourly_rate\n",
        "\n",
        "    def calculate_salary(self):\n",
        "        return self.hours_worked * self.hourly_rate\n",
        "\n",
        "class Manager(Employee):\n",
        "    def __init__(self, hours_worked, hourly_rate, bonus):\n",
        "        super().__init__(hours_worked, hourly_rate)\n",
        "        self.bonus = bonus\n",
        "\n",
        "    def calculate_salary(self):\n",
        "        return super().calculate_salary() + self.bonus\n",
        "\n"
      ],
      "metadata": {
        "id": "dC5SZsxVqSXX"
      },
      "execution_count": 29,
      "outputs": []
    },
    {
      "cell_type": "code",
      "source": [
        "emp = Employee(40, 20)\n",
        "mgr = Manager(40, 30, 500)\n",
        "\n",
        "print(\"Employee Salary:\", emp.calculate_salary())\n",
        "print(\"Manager Salary:\", mgr.calculate_salary())\n"
      ],
      "metadata": {
        "colab": {
          "base_uri": "https://localhost:8080/"
        },
        "id": "ZY4GclvoqfGo",
        "outputId": "34583273-ca02-4358-e6bd-c98f5c2017bb"
      },
      "execution_count": 30,
      "outputs": [
        {
          "output_type": "stream",
          "name": "stdout",
          "text": [
            "Employee Salary: 800\n",
            "Manager Salary: 1700\n"
          ]
        }
      ]
    },
    {
      "cell_type": "code",
      "source": [
        " ## . Create a class Product with attributes name, price, and quantity. Implement a method total_price() that calculates the total price of the product.\n",
        "\n",
        " class Product:\n",
        "    def __init__(self, name, price, quantity):\n",
        "        self.name = name\n",
        "        self.price = price\n",
        "        self.quantity = quantity\n",
        "\n",
        "    def total_price(self):\n",
        "        return self.price * self.quantity\n",
        "\n"
      ],
      "metadata": {
        "id": "zrVaU1gzqjvx"
      },
      "execution_count": 31,
      "outputs": []
    },
    {
      "cell_type": "code",
      "source": [
        "p1 = Product(\"Laptop\", 50000, 2)\n",
        "print(f\"Total price of {p1.name}: {p1.total_price()}\")\n"
      ],
      "metadata": {
        "colab": {
          "base_uri": "https://localhost:8080/"
        },
        "id": "SaEBswkgq4CU",
        "outputId": "e70fae10-dbeb-4dbe-da97-27bf5cb1887c"
      },
      "execution_count": 32,
      "outputs": [
        {
          "output_type": "stream",
          "name": "stdout",
          "text": [
            "Total price of Laptop: 100000\n"
          ]
        }
      ]
    },
    {
      "cell_type": "code",
      "source": [
        " ##  Create a class Animal with an abstract method sound(). Create two derived classes Cow and Sheep that implement the sound() method.\n",
        "\n",
        " from abc import ABC, abstractmethod\n",
        "\n",
        "class Animal(ABC):\n",
        "    @abstractmethod\n",
        "    def sound(self):\n",
        "        pass\n",
        "\n",
        "class Cow(Animal):\n",
        "    def sound(self):\n",
        "        print(\"Moo\")\n",
        "\n",
        "class Sheep(Animal):\n",
        "    def sound(self):\n",
        "        print(\"Baa\")\n",
        "\n"
      ],
      "metadata": {
        "id": "vX1UluN4q4eK"
      },
      "execution_count": 33,
      "outputs": []
    },
    {
      "cell_type": "code",
      "source": [
        "cow = Cow()\n",
        "sheep = Sheep()\n",
        "\n",
        "cow.sound()\n",
        "sheep.sound()\n"
      ],
      "metadata": {
        "colab": {
          "base_uri": "https://localhost:8080/"
        },
        "id": "Nc0MpZlMrFfp",
        "outputId": "c0a347ac-fea8-47d3-f0f8-95e6cf23503e"
      },
      "execution_count": 34,
      "outputs": [
        {
          "output_type": "stream",
          "name": "stdout",
          "text": [
            "Moo\n",
            "Baa\n"
          ]
        }
      ]
    },
    {
      "cell_type": "code",
      "source": [
        "## Create a class Book with attributes title, author, and year_published. Add a method get_book_info() that returns a formatted string with the book's details.\n",
        "\n",
        "class Book:\n",
        "    def __init__(self, title, author, year_published):\n",
        "        self.title = title\n",
        "        self.author = author\n",
        "        self.year_published = year_published\n",
        "\n",
        "    def get_book_info(self):\n",
        "        return f\"'{self.title}' by {self.author}, published in {self.year_published}\"\n",
        "\n"
      ],
      "metadata": {
        "id": "1IgjPdYUrGCc"
      },
      "execution_count": 35,
      "outputs": []
    },
    {
      "cell_type": "code",
      "source": [
        "book1 = Book(\"1984\", \"George Orwell\", 1949)\n",
        "print(book1.get_book_info())\n",
        "\n"
      ],
      "metadata": {
        "colab": {
          "base_uri": "https://localhost:8080/"
        },
        "id": "yNPpxIvCrR01",
        "outputId": "73e1a2d8-0372-4cf2-9745-50b18ae43963"
      },
      "execution_count": 36,
      "outputs": [
        {
          "output_type": "stream",
          "name": "stdout",
          "text": [
            "'1984' by George Orwell, published in 1949\n"
          ]
        }
      ]
    },
    {
      "cell_type": "code",
      "source": [
        "## Create a class House with attributes address and price. Create a derived class Mansion that adds an attribute number_of_rooms.\n",
        "class House:\n",
        "    def __init__(self, address, price):\n",
        "        self.address = address\n",
        "        self.price = price\n",
        "\n",
        "class Mansion(House):\n",
        "    def __init__(self, address, price, number_of_rooms):\n",
        "        super().__init__(address, price)\n",
        "        self.number_of_rooms = number_of_rooms\n",
        "\n"
      ],
      "metadata": {
        "id": "vtK0PTIZrSXi"
      },
      "execution_count": 37,
      "outputs": []
    },
    {
      "cell_type": "code",
      "source": [
        "m1 = Mansion(\"123 Palm Street\", 5000000, 15)\n",
        "print(f\"Address: {m1.address}, Price: {m1.price}, Rooms: {m1.number_of_rooms}\")\n"
      ],
      "metadata": {
        "id": "-ql1K-4QrdM7",
        "outputId": "6fd59fdd-9b48-4e3f-da8d-8288fe46884b",
        "colab": {
          "base_uri": "https://localhost:8080/"
        }
      },
      "execution_count": 38,
      "outputs": [
        {
          "output_type": "stream",
          "name": "stdout",
          "text": [
            "Address: 123 Palm Street, Price: 5000000, Rooms: 15\n"
          ]
        }
      ]
    },
    {
      "cell_type": "code",
      "source": [],
      "metadata": {
        "id": "yG5qzNbjrdrq"
      },
      "execution_count": null,
      "outputs": []
    }
  ]
}