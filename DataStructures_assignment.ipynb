{
  "nbformat": 4,
  "nbformat_minor": 0,
  "metadata": {
    "colab": {
      "provenance": []
    },
    "kernelspec": {
      "name": "python3",
      "display_name": "Python 3"
    },
    "language_info": {
      "name": "python"
    }
  },
  "cells": [
    {
      "cell_type": "markdown",
      "source": [
        "1. What are data structures, and why are they important ?\n",
        "  - Data structures are the fundamental building blocks of computer programming. They define how data is organized, stored, and manipulated within a program. Understanding data structures is very important for developing efficient and effective algorithms.\n",
        "  Efficient data management: Help store and organize data effectively.\n",
        "\n",
        "    1.Faster performance: Improve speed of operations like searching and sorting.\n",
        "\n",
        "    2.Problem-solving: Enable solutions for complex problems (e.g., graphs, trees).\n",
        "\n",
        "    3.Optimized algorithms: Algorithms work best with the right data structure.\n",
        "\n",
        "    4.Interview relevance: Key topic in coding interviews to assess logical thinking.\n",
        "2. Explain the difference between mutable and immutable data types with examples.\n",
        " - Mutable objects can have their values changed after they are created. This means you can add, remove, or modify elements within the object without creating a new object in memory.\n",
        " - Immutable objects cannot be changed after they are created. Any operation that appears to modify the object actually creates a new object in memory with the modified value.\n",
        " example : Lists , sets and dictionaries mutable data types where you can ad and remove elements and change the data types\n",
        " on other hand ; strings and tuples are immutable data types which once defined can not be changed.\n",
        "3. What are the main differences between lists and tuples in Python ?\n",
        "  - The main differences between lists and tuples in Python 3 are centered around their mutability and associated characteristics:\n",
        "\n",
        "  • Mutability:\n",
        "\t  • Lists: Mutable, meaning their elements can be changed (added, removed, or modified) after creation.\n",
        "\t  • Tuples: Immutable, meaning their elements cannot be changed after creation. This ensures data integrity for fixed collections.\n",
        "\n",
        "  • Syntax:\n",
        "\t • Lists: Defined using square brackets [].\n",
        "\t • Tuples: Defined using parentheses ().\n",
        "\n",
        "  • Performance and Memory:\n",
        "\t • Lists: Generally less memory-efficient and potentially slower for iteration due to their dynamic size and mutability.\n",
        "\t • Tuples: Generally more memory-efficient and faster for iteration due to their fixed size and immutability.\n",
        "\n",
        "  • Use Cases:\n",
        "\t • Lists: Suitable for collections where elements need frequent modification, such as managing a shopping cart or a list of dynamic tasks.\n",
        "\t • Tuples: Ideal for representing fixed collections of data that should not change, like geographic coordinates, database records, or configuration settings.\n",
        "\n",
        " • Dictionary Keys:\n",
        "\t • Lists: Cannot be used as dictionary keys because they are mutable and their hash value can change.\n",
        "\t • Tuples: Can be used as dictionary keys because they are immutable and their hash value remains constant.\n",
        "\n",
        "4. Describe how dictionaries store data.\n",
        "  - Dictionaries are used to store data values in key:value pairs. A dictionary is a collection which is ordered*, changeable and do not allow duplicates. As of Python version 3.7, dictionaries are ordered. In Python 3.6 and earlier, dictionaries are unordered.Dictionaries are written with curly brackets, and have keys and values.\n",
        "5. Why might you use a set instead of a list in Python ?\n",
        " - One might use set instead of python for the follwing reasons\n",
        "    1. it automatically  removes duplicate elements allowing user to store only unique elements\n",
        "    2. To perform set operations:\n",
        "     Sets support mathematical set operations like:\n",
        "\n",
        "    union() – combines elements from both sets\n",
        "\n",
        "    intersection() – common elements\n",
        "\n",
        "    difference() – elements in one but not the other\n",
        "6. What is a string in Python, and how is it different from a list?\n",
        " - A string in Python is a sequence of characters enclosed in single (') or double (\") quotes.\n",
        "Example: name = \"hello\"\n",
        " a list however is a sequence of elements usually inside a bracket, which is m utable in nature and can be of any data type i.e int, str , float , boolean.Strings are not mutable/immutable and their data types can not be changed\n",
        "\n",
        "7.  How do tuples ensure data integrity in Python?\n",
        " - Tuples are immutable to ensure that their contents remain constant throughout their lifecycle, guaranteeing data integrity and reliability. This immutability allows tuples to be used as keys in dictionaries and elements in sets, as they can be hashed.\n",
        "8. What is a hash table, and how does it relate to dictionaries in Python?\n",
        " - Hash tables are a type of data structure in which the address or the index value of the data element is generated from a hash function. That makes accessing the data faster as the index value behaves as a key for the data value. In other words Hash table stores key-value pairs but the key is generated through a hashing function.\n",
        " In Python, the Dictionary data types represent the implementation of hash tables. The Keys in the dictionary satisfy the following requirements.\n",
        "\n",
        "   1. The keys of the dictionary are hashable i.e. the are generated by hashing function which generates unique result for each unique value supplied to the hash function.\n",
        "\n",
        "   2. The order of data elements in a dictionary is not fixed.\n",
        "\n",
        "9. Can lists contain different data types in Python?\n",
        " - Yes, lists in Python can include a variety of data types.  This is a major characteristic of Python lists, which makes them a particularly adaptable and versatile data structure.\n",
        " A single Python list can contain a variety of data types, such as:\n",
        "\n",
        "  1. Integer: [1, 2, 3]\n",
        "  2. Floats are [1.0, 2.5, 3.14].\n",
        "  3. Strings: [\"apple\", \"banana\", \"cherry\"]\n",
        "  4. Booleans (True, False, True)\n",
        "  5. Other data structures: Lists can contain nested lists, tuples, dictionaries, and sets.\n",
        "   For example: [1, \"hello\", 3.14, [4, 5], {\"key\": \"value\"}].\n",
        "  \n",
        "  This ability to store heterogeneous data types within a single list allows for convenient organization and manipulation of diverse information within your programs.\n",
        "\n",
        "10. Explain why strings are immutable in Python.\n",
        " - Strings in Python are immutable, meaning they cannot be changed after they are created. This immutability ensures data safety by preventing accidental changes. It also improves performance because Python can store and reuse string objects more efficiently in memory. Additionally, immutable strings are hashable, which means they can be used as keys in dictionaries or stored in sets. This behavior supports consistent and predictable programming, especially when writing functions that rely on unchanging data. Instead of modifying a string, any operation that changes it results in the creation of a new string.\n",
        "11. What advantages do dictionaries offer over lists for certain tasks ?\n",
        " -  Dictionaries in Python offer faster data access using keys (O(1) time), unlike lists which require searching by index (O(n)). They store data as key-value pairs, making it easier to understand and manage. Dictionaries eliminate the need to track indexes and are ideal for representing structured or real-world data like user profiles or configurations. This makes them more efficient and readable for tasks involving lookup, mapping, or structured storage.\n",
        "12. Describe a scenario where using a tuple would be preferable over a list?\n",
        " - A tuple is preferable when you need to store a fixed set of values that should not change. For example, storing the latitude and longitude of a location is best done using a tuple, as these values represent a single, unchanging unit of data. Tuples ensure data integrity through immutability and can be used as keys in dictionaries, unlike lists. This makes them ideal for use cases where the data is constant and logically grouped, such as coordinates, dates, or configuration settings.\n",
        "location = (28.6139, 77.2090)  # Tuple\n",
        "13. How do sets handle duplicate values in Python ?\n",
        " - A set is designed to only handle unique values and i n case of any occurence of a duplicate values the re-occuring value is ignored by the set and only the unique elements remain.\n",
        "14. How does the “in” keyword work differently for lists and dictionaries ?\n",
        " - \"in\" keywords in list and dictionaries work differently in a sense that in list it check for the values in the code where as in the dictionary it looks for the key.\n",
        "15. Can you modify the elements of a tuple? Explain why or why not ?\n",
        " - No, you cannot modify the elements of a tuple in Python because tuples are immutable. This means that once a tuple is created, its contents cannot be changed, added to, or removed. The immutability of tuples ensures that their data remains constant throughout the program, which makes them suitable for storing fixed collections of items. Additionally, because of their immutability, tuples are hashable and can be used as keys in dictionaries or as elements in sets. This characteristic of being unchangeable is what fundamentally distinguishes tuples from lists in Python.\n",
        "16. What is a nested dictionary, and give an example of its use case?\n",
        " - A nested dictionary in Python is a dictionary where values themselves are dictionaries. It allows storing complex, structured data in a hierarchical format.A common use case is representing data with multiple levels of attributes, such as storing information about multiple users or employees, where each person has their own set of details. For example, in an employee management system, a nested dictionary can be used to store employee data.\n",
        "17. Describe the time complexity of accessing elements in a dictionary.\n",
        " - Python dictionaries provide a fast and efficient way to store and retrieve data using key value pair so understanding the time complexities of dictionary operations is very important for optimizing performance in our programs.\n",
        " my_dict = {\"name\": \"Aman\", \"age\": 20}\n",
        " When you do my_dict[\"name\"], Python quickly jumps to the place where \"name\" is stored and gives you the value, which is \"Alice\".This fast access is called O(1) time complexity, which means it takes constant time — super efficient.In very rare cases, if many keys get stored in the same place (called a collision), Python might take longer to find the value, but this doesn't happen often because Python handles this well.\n",
        "\n",
        "18. In what situations are lists preferred over dictionaries .\n",
        " - Lists are preferred over dictionaries when you need to store a simple, ordered collection of items where position (index) matters more than labels or keys.\n",
        "    Some common situations where lists are better:\n",
        "\n",
        "    1.When you only need to store values, not key-value pairs.\n",
        "\n",
        "    2.When you need to maintain the order of items as they are inserted.\n",
        "\n",
        "    3.When you want to access items by their position (like the first, second, or last item).\n",
        "\n",
        "    4.When you're working with sequences of data, like numbers, names, or tasks.\n",
        "\n",
        "19. Why are dictionaries considered unordered, and how does that affect data retrieval?\n",
        " - Dictionaries are considered unordered because they are built for accessing values by keys, not by position. Although Python 3.7 and later versions preserve the order in which items are added, dictionaries don’t support accessing elements by their position like lists do. This means you can’t rely on the order to retrieve items—you always use the key to get the value. This design keeps data retrieval very fast and efficient, but it means dictionaries focus on key-based lookup rather than ordered data storage.\n",
        "20.  Explain the difference between a list and a dictionary in terms of data retrieval.\n",
        " - The main difference between a list and a dictionary in data retrieval is how you access the stored values. In a list, you retrieve data by its position (index) — for example, getting the first or third item. This means you use numbers to find elements, and the order of items matters.In a dictionary, you retrieve data by using a key, which can be any unique identifier like a name or ID. You don’t use a position but a specific key to get the associated value. This makes dictionary lookup very fast and flexible since you don’t have to know the position, just the key.So, lists are best when order and position matter, while dictionaries are best when you want to quickly find data by a unique key.\n",
        "\n"
      ],
      "metadata": {
        "id": "u96JZAG2LzGf"
      }
    },
    {
      "cell_type": "code",
      "execution_count": 1,
      "metadata": {
        "id": "04i9hZfSLwsx",
        "colab": {
          "base_uri": "https://localhost:8080/"
        },
        "outputId": "f16ab68b-e173-4c43-b567-274a18dc0836"
      },
      "outputs": [
        {
          "output_type": "stream",
          "name": "stdout",
          "text": [
            "Aman\n"
          ]
        }
      ],
      "source": [
        "#Write a code to create a string with your name and print it\n",
        "name = \"Aman\"\n",
        "print(name)"
      ]
    },
    {
      "cell_type": "code",
      "source": [
        "type(name)"
      ],
      "metadata": {
        "colab": {
          "base_uri": "https://localhost:8080/"
        },
        "id": "bEyN1606B5Fy",
        "outputId": "4a8b37d0-3e7e-43da-dfca-08d77536dace"
      },
      "execution_count": 2,
      "outputs": [
        {
          "output_type": "execute_result",
          "data": {
            "text/plain": [
              "str"
            ]
          },
          "metadata": {},
          "execution_count": 2
        }
      ]
    },
    {
      "cell_type": "code",
      "source": [
        "#Write a code to find the length of the string \"Hello World\"\n",
        "string = \"Hello World\"\n",
        "len(string)"
      ],
      "metadata": {
        "colab": {
          "base_uri": "https://localhost:8080/"
        },
        "id": "uxAfoUV7B9tK",
        "outputId": "8d49bb3a-5530-49b1-f318-004d267f194e"
      },
      "execution_count": 3,
      "outputs": [
        {
          "output_type": "execute_result",
          "data": {
            "text/plain": [
              "11"
            ]
          },
          "metadata": {},
          "execution_count": 3
        }
      ]
    },
    {
      "cell_type": "code",
      "source": [
        "# Write a code to slice the first 3 characters from the string \"Python Programming\"\n",
        "string = \"Python Programming\"\n",
        "string[0:3]"
      ],
      "metadata": {
        "colab": {
          "base_uri": "https://localhost:8080/",
          "height": 36
        },
        "id": "nWo2RI7YCEu8",
        "outputId": "b42d2d77-aa23-4794-f857-cfe1ae23bd95"
      },
      "execution_count": 4,
      "outputs": [
        {
          "output_type": "execute_result",
          "data": {
            "text/plain": [
              "'Pyt'"
            ],
            "application/vnd.google.colaboratory.intrinsic+json": {
              "type": "string"
            }
          },
          "metadata": {},
          "execution_count": 4
        }
      ]
    },
    {
      "cell_type": "code",
      "source": [
        "# Write a code to convert the string \"hello\" to uppercase.\n",
        "string = \"hello\"\n",
        "string.upper()"
      ],
      "metadata": {
        "colab": {
          "base_uri": "https://localhost:8080/",
          "height": 36
        },
        "id": "zc97KvD_CNVu",
        "outputId": "0fd11bb6-ba13-47cd-cdb3-82baaacce5ce"
      },
      "execution_count": 5,
      "outputs": [
        {
          "output_type": "execute_result",
          "data": {
            "text/plain": [
              "'HELLO'"
            ],
            "application/vnd.google.colaboratory.intrinsic+json": {
              "type": "string"
            }
          },
          "metadata": {},
          "execution_count": 5
        }
      ]
    },
    {
      "cell_type": "code",
      "source": [
        "# Write a code to replace the word \"apple\" with \"orange\" in the string \"I like apple\".\n",
        "string = \"I like apple\"\n",
        "string.replace(\"apple\",\"orange\")"
      ],
      "metadata": {
        "colab": {
          "base_uri": "https://localhost:8080/",
          "height": 36
        },
        "id": "C4MWvszmCZ4Z",
        "outputId": "47e8135e-64e9-4a94-d23c-9811791511e4"
      },
      "execution_count": 6,
      "outputs": [
        {
          "output_type": "execute_result",
          "data": {
            "text/plain": [
              "'I like orange'"
            ],
            "application/vnd.google.colaboratory.intrinsic+json": {
              "type": "string"
            }
          },
          "metadata": {},
          "execution_count": 6
        }
      ]
    },
    {
      "cell_type": "code",
      "source": [
        "# Write a code to create a list with numbers 1 to 5 and print it.\n",
        "list = [1,2,3,4,5]\n",
        "print(list)"
      ],
      "metadata": {
        "colab": {
          "base_uri": "https://localhost:8080/"
        },
        "id": "9s5_YPd0CgYV",
        "outputId": "6f925fd6-cc52-432a-cc1a-e77f16946dd2"
      },
      "execution_count": 7,
      "outputs": [
        {
          "output_type": "stream",
          "name": "stdout",
          "text": [
            "[1, 2, 3, 4, 5]\n"
          ]
        }
      ]
    },
    {
      "cell_type": "code",
      "source": [
        "# Write a code to append the number 10 to the list [1, 2, 3, 4]\n",
        "list1 =[1,2,3,4]\n",
        "list1.append(10)\n",
        "print(list1)"
      ],
      "metadata": {
        "colab": {
          "base_uri": "https://localhost:8080/"
        },
        "id": "7N13zsrhCqDf",
        "outputId": "ff539322-5969-4b14-ab97-4375fd0fc067"
      },
      "execution_count": 8,
      "outputs": [
        {
          "output_type": "stream",
          "name": "stdout",
          "text": [
            "[1, 2, 3, 4, 10]\n"
          ]
        }
      ]
    },
    {
      "cell_type": "code",
      "source": [
        "# Write a code to remove the number 3 from the list [1, 2, 3, 4, 5].\n",
        "list2 = [1,2,3,4,5]\n",
        "list2.remove(3)\n",
        "print(list2)"
      ],
      "metadata": {
        "colab": {
          "base_uri": "https://localhost:8080/"
        },
        "id": "STuu1F87Cz58",
        "outputId": "1c49385d-d49d-4dc4-a687-7b09be949c32"
      },
      "execution_count": 9,
      "outputs": [
        {
          "output_type": "stream",
          "name": "stdout",
          "text": [
            "[1, 2, 4, 5]\n"
          ]
        }
      ]
    },
    {
      "cell_type": "code",
      "source": [
        "# Write a code to access the second element in the list ['a', 'b', 'c', 'd']\n",
        "list3 = [\"a\",\"b\",\"c\",\"d\"]\n",
        "second_element = list3[1]\n",
        "print(second_element)"
      ],
      "metadata": {
        "colab": {
          "base_uri": "https://localhost:8080/"
        },
        "id": "Jneo5sS0C5TJ",
        "outputId": "8cd6c348-7f31-4d84-b366-2d0d63cac69b"
      },
      "execution_count": 10,
      "outputs": [
        {
          "output_type": "stream",
          "name": "stdout",
          "text": [
            "b\n"
          ]
        }
      ]
    },
    {
      "cell_type": "code",
      "source": [
        "# Write a code to reverse the list [10, 20, 30, 40, 50].\n",
        "list4 =  [10, 20, 30, 40, 50]\n",
        "rev_list = list4[::-1]\n",
        "print(rev_list)"
      ],
      "metadata": {
        "colab": {
          "base_uri": "https://localhost:8080/"
        },
        "id": "YNE7IImtDcfu",
        "outputId": "1e49c078-5669-40de-af26-93bc2c3d449c"
      },
      "execution_count": 11,
      "outputs": [
        {
          "output_type": "stream",
          "name": "stdout",
          "text": [
            "[50, 40, 30, 20, 10]\n"
          ]
        }
      ]
    },
    {
      "cell_type": "code",
      "source": [
        "#Write a code to create a tuple with the elements 100, 200, 300 and print it\n",
        "tuple = (100,200,300)\n",
        "print(tuple)"
      ],
      "metadata": {
        "colab": {
          "base_uri": "https://localhost:8080/"
        },
        "id": "2IAjbJkTDy8o",
        "outputId": "0e47da3b-fe6c-4c3c-d183-1ed19fcf74ab"
      },
      "execution_count": 12,
      "outputs": [
        {
          "output_type": "stream",
          "name": "stdout",
          "text": [
            "(100, 200, 300)\n"
          ]
        }
      ]
    },
    {
      "cell_type": "code",
      "source": [
        "type(tuple)"
      ],
      "metadata": {
        "colab": {
          "base_uri": "https://localhost:8080/"
        },
        "id": "NqVro94BD412",
        "outputId": "c43d06d2-ff09-4323-df89-feb8cfc9b1ef"
      },
      "execution_count": 13,
      "outputs": [
        {
          "output_type": "execute_result",
          "data": {
            "text/plain": [
              "tuple"
            ]
          },
          "metadata": {},
          "execution_count": 13
        }
      ]
    },
    {
      "cell_type": "code",
      "source": [
        "#  Write a code to access the second-to-last element of the tuple ('red', 'green', 'blue', 'yellow').\n",
        "tuple1 = ('red', 'green', 'blue', 'yellow')\n",
        "print(tuple1[-2])\n"
      ],
      "metadata": {
        "colab": {
          "base_uri": "https://localhost:8080/"
        },
        "id": "rMZ9JwPjD6oD",
        "outputId": "3116c8e0-a249-4b17-bbb9-b101af10c993"
      },
      "execution_count": 14,
      "outputs": [
        {
          "output_type": "stream",
          "name": "stdout",
          "text": [
            "blue\n"
          ]
        }
      ]
    },
    {
      "cell_type": "code",
      "source": [
        "#Write a code to find the minimum number in the tuple (10, 20, 5, 15).\n",
        "tuple2 = (10, 20, 5, 15)\n",
        "print(min(tuple2))"
      ],
      "metadata": {
        "colab": {
          "base_uri": "https://localhost:8080/"
        },
        "id": "RgBya9LTEBkJ",
        "outputId": "453e5913-682a-4dba-a4cd-d78d854f47b0"
      },
      "execution_count": 15,
      "outputs": [
        {
          "output_type": "stream",
          "name": "stdout",
          "text": [
            "5\n"
          ]
        }
      ]
    },
    {
      "cell_type": "code",
      "source": [
        "#  Write a code to find the index of the element \"cat\" in the tuple ('dog', 'cat', 'rabbit').\n",
        "tuple3 = ('dog', 'cat', 'rabbit')\n",
        "print(tuple3.index(\"cat\"))"
      ],
      "metadata": {
        "colab": {
          "base_uri": "https://localhost:8080/"
        },
        "id": "P42mZyr9EIm9",
        "outputId": "1b5fb449-6f46-489c-970d-5d8bd7192173"
      },
      "execution_count": 16,
      "outputs": [
        {
          "output_type": "stream",
          "name": "stdout",
          "text": [
            "1\n"
          ]
        }
      ]
    },
    {
      "cell_type": "code",
      "source": [
        "# Write a code to create a tuple containing three different fruits and check if \"kiwi\" is in it.\n",
        "tuple4 = (\"apple\",\"banana\",\"kiwi\")\n",
        "if \"kiwi\" in tuple4:\n",
        "    print(\"kiwi is in the tuple\")\n",
        "else:\n",
        "    print(\"kiwi is not in the tuple\")"
      ],
      "metadata": {
        "colab": {
          "base_uri": "https://localhost:8080/"
        },
        "id": "za4s_jBRESGI",
        "outputId": "e8cc2369-e55e-4a87-fb3d-0bd6d0bd31e5"
      },
      "execution_count": 17,
      "outputs": [
        {
          "output_type": "stream",
          "name": "stdout",
          "text": [
            "kiwi is in the tuple\n"
          ]
        }
      ]
    },
    {
      "cell_type": "code",
      "source": [
        "# Write a code to create a set with the elements 'a', 'b', 'c' and print it.\n",
        "my_set = {\"a\",\"b\",\n",
        "          \"c\"}\n",
        "print(my_set)\n",
        "type(my_set)"
      ],
      "metadata": {
        "colab": {
          "base_uri": "https://localhost:8080/"
        },
        "id": "YhTBj-UKEgpP",
        "outputId": "cc0365b4-acbd-4cc9-c0b4-0454407a9724"
      },
      "execution_count": 19,
      "outputs": [
        {
          "output_type": "stream",
          "name": "stdout",
          "text": [
            "{'b', 'a', 'c'}\n"
          ]
        },
        {
          "output_type": "execute_result",
          "data": {
            "text/plain": [
              "set"
            ]
          },
          "metadata": {},
          "execution_count": 19
        }
      ]
    },
    {
      "cell_type": "code",
      "source": [
        "#Write a code to clear all elements from the set {1, 2, 3, 4, 5}\n",
        "my_set1 = {1, 2, 3, 4, 5}\n",
        "my_set1.clear()\n",
        "print(my_set1)"
      ],
      "metadata": {
        "colab": {
          "base_uri": "https://localhost:8080/"
        },
        "id": "UpONFhy7E1fG",
        "outputId": "92a7e849-220c-4e7f-9946-77894dbb7e28"
      },
      "execution_count": 20,
      "outputs": [
        {
          "output_type": "stream",
          "name": "stdout",
          "text": [
            "set()\n"
          ]
        }
      ]
    },
    {
      "cell_type": "code",
      "source": [
        "#Write a code to remove the element 4 from the set {1, 2, 3, 4}.\n",
        "\n",
        "my_set2 = {1, 2, 3, 4}\n",
        "my_set2.remove(4)\n",
        "print(my_set2)"
      ],
      "metadata": {
        "colab": {
          "base_uri": "https://localhost:8080/"
        },
        "id": "WWuIUHL4E_Tg",
        "outputId": "7f8adf2b-39d3-4c7a-e39b-fd64a16a3391"
      },
      "execution_count": 21,
      "outputs": [
        {
          "output_type": "stream",
          "name": "stdout",
          "text": [
            "{1, 2, 3}\n"
          ]
        }
      ]
    },
    {
      "cell_type": "code",
      "source": [
        "#Write a code to find the union of two sets {1, 2, 3} and {3, 4, 5}\n",
        "set1 = {1, 2, 3}\n",
        "set2 = {3, 4, 5}\n",
        "print(set1.union(set2))"
      ],
      "metadata": {
        "colab": {
          "base_uri": "https://localhost:8080/"
        },
        "id": "TtQJM2p_FFB2",
        "outputId": "b7b192be-90c5-4b80-a9bf-188e0da54b63"
      },
      "execution_count": 22,
      "outputs": [
        {
          "output_type": "stream",
          "name": "stdout",
          "text": [
            "{1, 2, 3, 4, 5}\n"
          ]
        }
      ]
    },
    {
      "cell_type": "code",
      "source": [
        "#  Write a code to find the intersection of two sets {1, 2, 3} and {2, 3, 4}\n",
        "set1 = {1, 2, 3}\n",
        "set2 = {2, 3, 4}\n",
        "print(set1.intersection(set2))"
      ],
      "metadata": {
        "colab": {
          "base_uri": "https://localhost:8080/"
        },
        "id": "PqmQ954kFKRl",
        "outputId": "12726724-7f02-4369-bcd5-1a3f71e61710"
      },
      "execution_count": 23,
      "outputs": [
        {
          "output_type": "stream",
          "name": "stdout",
          "text": [
            "{2, 3}\n"
          ]
        }
      ]
    },
    {
      "cell_type": "code",
      "source": [
        "#Write a code to create a dictionary with the keys \"name\", \"age\", and \"city\", and print it.\n",
        "my_dict = {\"name\" : \"Aman\",\"age\" : 24, \"city\" : \"Delhi\"}\n",
        "print(my_dict)"
      ],
      "metadata": {
        "colab": {
          "base_uri": "https://localhost:8080/"
        },
        "id": "4LkVukfuFO2q",
        "outputId": "c4637321-a612-4819-b95f-da0441573492"
      },
      "execution_count": 24,
      "outputs": [
        {
          "output_type": "stream",
          "name": "stdout",
          "text": [
            "{'name': 'Aman', 'age': 24, 'city': 'Delhi'}\n"
          ]
        }
      ]
    },
    {
      "cell_type": "code",
      "source": [
        "# Write a code to add a new key-value pair \"country\": \"USA\" to the dictionary {'name': 'John', 'age': 25}.\n",
        "my_dict1 = {'name': 'John', 'age': 25}\n",
        "my_dict1[\"country\"] = \"USA\"\n",
        "print(my_dict1)"
      ],
      "metadata": {
        "colab": {
          "base_uri": "https://localhost:8080/"
        },
        "id": "Cb-E1ZeJFaeM",
        "outputId": "2d7f2ed6-9f7b-4202-d2ec-af46248c51fc"
      },
      "execution_count": 25,
      "outputs": [
        {
          "output_type": "stream",
          "name": "stdout",
          "text": [
            "{'name': 'John', 'age': 25, 'country': 'USA'}\n"
          ]
        }
      ]
    },
    {
      "cell_type": "code",
      "source": [
        "# Write a code to access the value associated with the key \"name\" in the dictionary {'name': 'Alice', 'age': 30}.\n",
        "my_dict2 = {'name': 'Alice', 'age': 30}\n",
        "print(my_dict2[\"name\"])"
      ],
      "metadata": {
        "colab": {
          "base_uri": "https://localhost:8080/"
        },
        "id": "MTn5NuarFoRI",
        "outputId": "372648af-cd0f-4f38-e4c6-830edcc0e1ce"
      },
      "execution_count": 26,
      "outputs": [
        {
          "output_type": "stream",
          "name": "stdout",
          "text": [
            "Alice\n"
          ]
        }
      ]
    },
    {
      "cell_type": "code",
      "source": [
        "# Write a code to remove the key \"age\" from the dictionary {'name': 'Bob', 'age': 22, 'city': 'New York'}.\n",
        "my_dict3 = {'name': 'Bob', 'age': 22, 'city': 'New York'}\n",
        "del my_dict3[\"age\"]\n",
        "print(my_dict3)"
      ],
      "metadata": {
        "colab": {
          "base_uri": "https://localhost:8080/"
        },
        "id": "hddGS1q7Fvku",
        "outputId": "256d48fd-c008-4842-ab78-d1b41b4b12a1"
      },
      "execution_count": 27,
      "outputs": [
        {
          "output_type": "stream",
          "name": "stdout",
          "text": [
            "{'name': 'Bob', 'city': 'New York'}\n"
          ]
        }
      ]
    },
    {
      "cell_type": "code",
      "source": [
        "# Write a code to remove the key \"age\" from the dictionary {'name': 'Bob', 'age': 22, 'city': 'New York'}. different method\n",
        "my_dict4 = {'name': 'Bob', 'age': 22, 'city': 'New York'}\n",
        "my_dict4.pop(\"age\")\n",
        "print(my_dict4)"
      ],
      "metadata": {
        "colab": {
          "base_uri": "https://localhost:8080/"
        },
        "id": "ykGvox6NF0Wq",
        "outputId": "05ca539a-2ef6-4471-9a67-ff8e216fc4d4"
      },
      "execution_count": 28,
      "outputs": [
        {
          "output_type": "stream",
          "name": "stdout",
          "text": [
            "{'name': 'Bob', 'city': 'New York'}\n"
          ]
        }
      ]
    },
    {
      "cell_type": "code",
      "source": [
        "# Write a code to check if the key \"city\" exists in the dictionary {'name': 'Alice', 'city': 'Paris'}\n",
        "my_dict5 = {'name': 'Alice', 'city': 'Paris'}\n",
        "if \"city\" in my_dict5:\n",
        "    print(\"city is in the dictionary\")\n",
        "else:\n",
        "    print(\"city is not in the dictionary\")"
      ],
      "metadata": {
        "colab": {
          "base_uri": "https://localhost:8080/"
        },
        "id": "6qGZEdYxF60L",
        "outputId": "c816aa07-cc7e-4a95-9d32-30716c207547"
      },
      "execution_count": 29,
      "outputs": [
        {
          "output_type": "stream",
          "name": "stdout",
          "text": [
            "city is in the dictionary\n"
          ]
        }
      ]
    },
    {
      "cell_type": "code",
      "source": [
        "# Write a code to create a list, a tuple, and a dictionary, and print them all.\n",
        "my_list = [1, 2, 3]\n",
        "my_tuple = (4, 5, 6)\n",
        "my_dict = {'a': 7, 'b': 8}\n",
        "\n",
        "print(\"List:\", my_list)\n",
        "print(\"Tuple:\", my_tuple)\n",
        "print(\"Dictionary:\", my_dict)\n"
      ],
      "metadata": {
        "colab": {
          "base_uri": "https://localhost:8080/"
        },
        "id": "ds29V33aGLX8",
        "outputId": "99cd26ad-7728-4966-d755-504cfef59db5"
      },
      "execution_count": 30,
      "outputs": [
        {
          "output_type": "stream",
          "name": "stdout",
          "text": [
            "List: [1, 2, 3]\n",
            "Tuple: (4, 5, 6)\n",
            "Dictionary: {'a': 7, 'b': 8}\n"
          ]
        }
      ]
    },
    {
      "cell_type": "code",
      "source": [
        "# Write a code to create a list of 5 random numbers between 1 and 100, sort it in ascending order, and print the result.(replaced)\n",
        "import random\n",
        "random_numbers = [random.randint(1, 100) for _ in range(5)]\n",
        "random_numbers.sort()\n",
        "print(random_numbers)\n"
      ],
      "metadata": {
        "colab": {
          "base_uri": "https://localhost:8080/"
        },
        "id": "thEht0W4GfeY",
        "outputId": "0c0bead6-3487-4a2f-e149-a863b1fd62be"
      },
      "execution_count": 35,
      "outputs": [
        {
          "output_type": "stream",
          "name": "stdout",
          "text": [
            "[10, 23, 36, 67, 92]\n"
          ]
        }
      ]
    },
    {
      "cell_type": "code",
      "source": [
        "# Write a code to create a list with strings and print the element at the third index\n",
        "my_list = [\"apple\", \"banana\", \"orange\", \"date\", \"watermelon\"]\n",
        "print(my_list[3])"
      ],
      "metadata": {
        "colab": {
          "base_uri": "https://localhost:8080/"
        },
        "id": "gclp-LOfG3t9",
        "outputId": "11b460a8-59aa-4117-d0ed-85dc3884c57c"
      },
      "execution_count": 36,
      "outputs": [
        {
          "output_type": "stream",
          "name": "stdout",
          "text": [
            "date\n"
          ]
        }
      ]
    },
    {
      "cell_type": "code",
      "source": [
        "# Write a code to combine two dictionaries into one and print the result.\n",
        "dict1 = {'a': 1, 'b': 2}\n",
        "dict2 = {'c': 3, 'd': 4}\n",
        "combined_dict = {**dict1, **dict2}\n",
        "print(combined_dict)"
      ],
      "metadata": {
        "colab": {
          "base_uri": "https://localhost:8080/"
        },
        "id": "uLALVb8VHdvn",
        "outputId": "c8a31c35-504e-4454-91e8-72e478c35cbb"
      },
      "execution_count": 37,
      "outputs": [
        {
          "output_type": "stream",
          "name": "stdout",
          "text": [
            "{'a': 1, 'b': 2, 'c': 3, 'd': 4}\n"
          ]
        }
      ]
    },
    {
      "cell_type": "code",
      "source": [
        "# Write a code to convert a list of strings into a set.\n",
        "my_list = [\"apple\", \"banana\", \"orange\", \"apple\", \"banana\"]\n",
        "my_set = set(my_list)\n",
        "print(my_set)"
      ],
      "metadata": {
        "colab": {
          "base_uri": "https://localhost:8080/"
        },
        "id": "OpngE-j3Hkfr",
        "outputId": "86c5d17a-faa0-42b8-8319-4a4a54290f66"
      },
      "execution_count": 38,
      "outputs": [
        {
          "output_type": "stream",
          "name": "stdout",
          "text": [
            "{'apple', 'orange', 'banana'}\n"
          ]
        }
      ]
    },
    {
      "cell_type": "code",
      "source": [],
      "metadata": {
        "id": "hKr1TtAxHp2L"
      },
      "execution_count": null,
      "outputs": []
    }
  ]
}