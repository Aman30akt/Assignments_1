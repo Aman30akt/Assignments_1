{
  "nbformat": 4,
  "nbformat_minor": 0,
  "metadata": {
    "colab": {
      "provenance": []
    },
    "kernelspec": {
      "name": "python3",
      "display_name": "Python 3"
    },
    "language_info": {
      "name": "python"
    }
  },
  "cells": [
    {
      "cell_type": "markdown",
      "source": [
        "#Python Basics\n",
        " 1.  What is Python, and why is it popular ?\n",
        "   - Python is a high level interpreted programming language known for its easy to use nature and readability where the code ius executed line by line and easily understandable.\n",
        "   It is popular due to its simple synstax , huge libraries and adapatability to different fields like web development , data analytics and machine learning.\n",
        " 2. What is an interpreter in Python ?\n",
        "   - In python an interpreter is a program that reads anbd executes the code line by line without the need for compilation of data into a machine code. It translates each high level statment into a low level instruction for the computer to understand and run.\n",
        " 3. What are pre-defined keywords in Python ?\n",
        "    - Keywords are a set of reserved keys that can not be used as an identifier because they have predefined meanings guiding the interpretor on how to execute the code.\n",
        "    for  example : if, elif, else\n",
        " 4. Can keywords be used as variable names ?\n",
        "     - No keywords hold a predefined meaning and cannot be used as variable names as they are required to interpret the code by the syntax.\n",
        " 5. What is mutability in Python ?\n",
        "    - mutbalitiy refers to the ability of an object to be changed after it is created. Mutable objects allow modifications to their internal state or data without creating a new object. This means that if you modify a mutable object, any references to that object will reflect those changes.\n",
        " 6.  Why are lists mutable, but tuples are immutable ?\n",
        "     - Tuples and lists are the same in every way except two: tuples use parentheses instead of square brackets, and the items in tuples cannot be modified (but the items in lists can be modified). We often call lists mutable (meaning they can be changed) and tuples immutable (meaning they cannot be changed)\n",
        " 7. What is the difference between “==” and “is” operators in Python ?\n",
        "      - \"==\" and \"is\" operators i python serve two different functions where in == represents the equality between two objects where as 'is' operator defines two object in the same memory space\n",
        " 8. What are logical operators in Python ?\n",
        "    -  Logical operators in python are used with conditional statements and operate on boolean valus i.e. 'True' and 'False. There are three such operators - 'and', 'or', 'not'\n",
        " 9. What is type casting in Python ?\n",
        "    - tpye casting refers to the process of changing the data type of a variable from  one type to another. for example - int() converts a data into integer but the same variable put into str() would be converted into a string type variable.\n",
        " 10.  What is the difference between implicit and explicit type casting ?\n",
        "    - implicit type casting is a type of casdting where in the the variable is automatically converted and complied into a different variable and explicit typecasting is user defined and required a user to define the variable's type by using a cast operator.\n",
        "    e.g - implicit type casting occurs when the interpreter encounters mmixed data types like summing up of and integer and float data type\n",
        " 11. What is the purpose of conditional statements in Python ?\n",
        "     - Conditional statements are used in python to control the flow of execution in program based on specific condtions, which allows the program to choose different block of codes to execute from if any one condition is not satisfied.\n",
        " 12.  How does the elif statement work?\n",
        "     - Elif statement in python allows us to check the conditional statements sequentially in a code of block. If the initial 'if' statement isn't true then the code of block with 'elfi' statement will keep executing until the desired output is achieved.\n",
        " 13.  What is the difference between for and while loops ?\n",
        "     - \"For\" loop is used in python when you know the specific number of time a code has to be executed to meet the desired results to iterate each element of sequence , \"while\" loop on the other hand is used when you want to repeat a block of code and continue the loop sequentially until the desired condition is met.\n",
        " 14. Describe a scenario where a while loop is more suitable than a for loop?\n",
        "\n",
        "    - A while loop is more suitable than a for loop when the number of iterations is not known in advance and the loop needs to continue until a specific condition is met, which may depend on external factors or user input.\n",
        "    A specific example would be a block of code where in a user has to enter their  password which has to correct till then the code will execute until the user does not provide correctr password.\n",
        "    \n",
        "\n",
        "\n"
      ],
      "metadata": {
        "id": "N39xGibq1bWB"
      }
    },
    {
      "cell_type": "code",
      "source": [
        "# 1. Write a Python program to print \"Hello, World!?\n",
        "print (\"Hello World\")"
      ],
      "metadata": {
        "colab": {
          "base_uri": "https://localhost:8080/"
        },
        "id": "bzsvPZS2BNdy",
        "outputId": "22ef599e-b4e4-4f74-ab5f-b8854af9f7b6"
      },
      "execution_count": 18,
      "outputs": [
        {
          "output_type": "stream",
          "name": "stdout",
          "text": [
            "Hello World\n"
          ]
        }
      ]
    },
    {
      "cell_type": "code",
      "source": [
        "# 2. Write a Python program that displays your name and age\n",
        "name = \"Aman Kumar Thakur\"\n",
        "age = \"24\"\n",
        "\n",
        "print (\"My name is\", name )\n",
        "print (\"I am\" , age, \"yrs old\")"
      ],
      "metadata": {
        "colab": {
          "base_uri": "https://localhost:8080/"
        },
        "id": "JpFWPoKVBWuj",
        "outputId": "fbda3f87-ddd8-470b-b214-89c631a8c504"
      },
      "execution_count": 19,
      "outputs": [
        {
          "output_type": "stream",
          "name": "stdout",
          "text": [
            "My name is Aman Kumar Thakur\n",
            "I am 24 yrs old\n"
          ]
        }
      ]
    },
    {
      "cell_type": "code",
      "source": [
        "#3. 8 Write code to print all the pre-defined keywords in Python using the keyword library.\n",
        "import keyword\n",
        "\n",
        "keywords =  keyword.kwlist\n",
        "print (\"The keywords are\" , keywords)"
      ],
      "metadata": {
        "colab": {
          "base_uri": "https://localhost:8080/"
        },
        "id": "zsO8jZJQCMYD",
        "outputId": "e88ab520-3589-49ea-98b5-f0fbfcc4bf72"
      },
      "execution_count": 20,
      "outputs": [
        {
          "output_type": "stream",
          "name": "stdout",
          "text": [
            "The keywords are ['False', 'None', 'True', 'and', 'as', 'assert', 'async', 'await', 'break', 'class', 'continue', 'def', 'del', 'elif', 'else', 'except', 'finally', 'for', 'from', 'global', 'if', 'import', 'in', 'is', 'lambda', 'nonlocal', 'not', 'or', 'pass', 'raise', 'return', 'try', 'while', 'with', 'yield']\n"
          ]
        }
      ]
    },
    {
      "cell_type": "code",
      "source": [
        "# 4. Write a program that checks if a given word is a Python keyword.\n",
        "import keyword\n",
        "\n",
        "word = input(\"Enter a word: \")\n",
        "\n",
        "if keyword.iskeyword(word):\n",
        "    print(f\"'{word}' is a Python keyword.\")\n",
        "else:\n",
        "    print(f\"'{word}' is NOT a Python keyword.\")\n"
      ],
      "metadata": {
        "colab": {
          "base_uri": "https://localhost:8080/"
        },
        "id": "-i8I8R5eCaI7",
        "outputId": "e0e1f490-2271-40ad-93ca-e91b28e67255"
      },
      "execution_count": 21,
      "outputs": [
        {
          "output_type": "stream",
          "name": "stdout",
          "text": [
            "Enter a word: hello\n",
            "'hello' is NOT a Python keyword.\n"
          ]
        }
      ]
    },
    {
      "cell_type": "code",
      "source": [
        "# 5.  Create a list and tuple in Python, and demonstrate how attempting to change an element works differently for each.\n",
        "my_list = [10, 20, 30 ,40]\n",
        "my_list[1] = 50\n",
        "print(my_list)\n",
        "\n",
        "#modifying a tuple\n",
        "my_tuple = (10, 20, 30, 40)\n",
        "my_tuple[1] = 50  #tuples are immutable objects , attempting to change themn would cause the error to occur in a code\n",
        "print(my_tuple)"
      ],
      "metadata": {
        "colab": {
          "base_uri": "https://localhost:8080/",
          "height": 211
        },
        "id": "EBlmWl8kFyIQ",
        "outputId": "172daaf6-dbfe-472e-d1d9-ac5775902720"
      },
      "execution_count": 23,
      "outputs": [
        {
          "output_type": "stream",
          "name": "stdout",
          "text": [
            "[10, 50, 30, 40]\n"
          ]
        },
        {
          "output_type": "error",
          "ename": "TypeError",
          "evalue": "'tuple' object does not support item assignment",
          "traceback": [
            "\u001b[0;31m---------------------------------------------------------------------------\u001b[0m",
            "\u001b[0;31mTypeError\u001b[0m                                 Traceback (most recent call last)",
            "\u001b[0;32m<ipython-input-23-44354ec3ed63>\u001b[0m in \u001b[0;36m<cell line: 0>\u001b[0;34m()\u001b[0m\n\u001b[1;32m      6\u001b[0m \u001b[0;31m#modifying a tuple\u001b[0m\u001b[0;34m\u001b[0m\u001b[0;34m\u001b[0m\u001b[0m\n\u001b[1;32m      7\u001b[0m \u001b[0mmy_tuple\u001b[0m \u001b[0;34m=\u001b[0m \u001b[0;34m(\u001b[0m\u001b[0;36m10\u001b[0m\u001b[0;34m,\u001b[0m \u001b[0;36m20\u001b[0m\u001b[0;34m,\u001b[0m \u001b[0;36m30\u001b[0m\u001b[0;34m,\u001b[0m \u001b[0;36m40\u001b[0m\u001b[0;34m)\u001b[0m\u001b[0;34m\u001b[0m\u001b[0;34m\u001b[0m\u001b[0m\n\u001b[0;32m----> 8\u001b[0;31m \u001b[0mmy_tuple\u001b[0m\u001b[0;34m[\u001b[0m\u001b[0;36m1\u001b[0m\u001b[0;34m]\u001b[0m \u001b[0;34m=\u001b[0m \u001b[0;36m50\u001b[0m  \u001b[0;31m#tuples are immutable objects , attempting to change themn would cause the error to occur in a code\u001b[0m\u001b[0;34m\u001b[0m\u001b[0;34m\u001b[0m\u001b[0m\n\u001b[0m\u001b[1;32m      9\u001b[0m \u001b[0mprint\u001b[0m\u001b[0;34m(\u001b[0m\u001b[0mmy_tuple\u001b[0m\u001b[0;34m)\u001b[0m\u001b[0;34m\u001b[0m\u001b[0;34m\u001b[0m\u001b[0m\n",
            "\u001b[0;31mTypeError\u001b[0m: 'tuple' object does not support item assignment"
          ]
        }
      ]
    },
    {
      "cell_type": "code",
      "source": [
        "# 6. Write a function to demonstrate the behavior of mutable and immutable arguments.\n",
        "\n",
        "def modify_arguments(arg1, arg2):\n",
        "  print(\"Inside the function: \")\n",
        "  print(f\"  arg1 before modification: {arg1}\")\n",
        "  print(f\"  arg2 before modification: {arg2}\")\n",
        "\n",
        "  arg1 += 5\n",
        "  arg2.append(6)\n",
        "\n",
        "  print(f\"  arg1 after modification: {arg1}\")\n",
        "  print(f\"  arg2 after modification: {arg2}\")\n",
        "immutable_arg =7\n",
        "mutable_arg = [1, 2, 3,4,5]\n",
        "\n",
        "print(\"Before function call:\")\n",
        "print(f\"  immutable_arg: {immutable_arg}\")\n",
        "print(f\"  mutable_arg: {mutable_arg}\")\n",
        "\n",
        "modify_arguments(immutable_arg, mutable_arg)\n",
        "\n",
        "print(\"After function call:\")\n",
        "print(f\"  immutable_arg: {immutable_arg}\")\n",
        "print(f\"  mutable_arg: {mutable_arg}\")"
      ],
      "metadata": {
        "id": "3SDJnhygGMFR",
        "colab": {
          "base_uri": "https://localhost:8080/"
        },
        "outputId": "74d3eb46-2829-4500-ad6a-2e2ac90d3591"
      },
      "execution_count": 24,
      "outputs": [
        {
          "output_type": "stream",
          "name": "stdout",
          "text": [
            "Before function call:\n",
            "  immutable_arg: 7\n",
            "  mutable_arg: [1, 2, 3, 4, 5]\n",
            "Inside the function: \n",
            "  arg1 before modification: 7\n",
            "  arg2 before modification: [1, 2, 3, 4, 5]\n",
            "  arg1 after modification: 12\n",
            "  arg2 after modification: [1, 2, 3, 4, 5, 6]\n",
            "After function call:\n",
            "  immutable_arg: 7\n",
            "  mutable_arg: [1, 2, 3, 4, 5, 6]\n"
          ]
        }
      ]
    },
    {
      "cell_type": "code",
      "source": [
        "# 7.  Write a program that performs basic arithmetic operations on two user-input numbers.\n",
        "def main():\n",
        "  print(\"Basic Arithmetic Operations\")\n",
        "  num1 = float(input(\"Enter the first number: \"))\n",
        "  num2 = float(input(\"Enter the second number: \"))\n",
        "\n",
        "  print(\"\\nResult:\")\n",
        "  print(f\"{num1} + {num2} = {num1 + num2}\")\n",
        "  print(f\"{num1} - {num2} = {num1 - num2}\")\n",
        "  print(f\"{num1} * {num2} = {num1 * num2}\")\n",
        "  print(f\"{num1} / {num2} = {num1 / num2}\")\n",
        "\n",
        "if __name__ == \"__main__\":\n",
        "  main()"
      ],
      "metadata": {
        "colab": {
          "base_uri": "https://localhost:8080/"
        },
        "id": "tg7A8fixUajc",
        "outputId": "98073f4a-4038-4ae2-e844-1b46820907db"
      },
      "execution_count": 25,
      "outputs": [
        {
          "output_type": "stream",
          "name": "stdout",
          "text": [
            "Basic Arithmetic Operations\n",
            "Enter the first number: 6\n",
            "Enter the second number: 8\n",
            "\n",
            "Result:\n",
            "6.0 + 8.0 = 14.0\n",
            "6.0 - 8.0 = -2.0\n",
            "6.0 * 8.0 = 48.0\n",
            "6.0 / 8.0 = 0.75\n"
          ]
        }
      ]
    },
    {
      "cell_type": "code",
      "source": [
        "# 8. Write a program to demonstrate the use of logical operators.\n",
        "a = 10\n",
        "b = 15\n",
        "print (\"a = \", a)\n",
        "print (\"b =\" , b)\n",
        "print(\"a > 0 and b > 0:\", a > 0 and b > 0)\n",
        "print(\"a > 0 and b < 0:\", a > 0 or b > 0)\n",
        "print(\"not(a > 0):\", not(a > 0))\n",
        "\n"
      ],
      "metadata": {
        "colab": {
          "base_uri": "https://localhost:8080/"
        },
        "id": "qPXe8HuyZBwj",
        "outputId": "2f003de6-e018-4ad2-c894-a94b90cc814f"
      },
      "execution_count": 26,
      "outputs": [
        {
          "output_type": "stream",
          "name": "stdout",
          "text": [
            "a =  10\n",
            "b = 15\n",
            "a > 0 and b > 0: True\n",
            "a > 0 and b < 0: True\n",
            "not(a > 0): False\n"
          ]
        }
      ]
    },
    {
      "cell_type": "code",
      "source": [
        "# 9. Write a Python program to convert user input from string to integer, float, and boolean types.\n",
        "\n",
        "Input_value = input(\"Enter a value:\")\n",
        "try :\n",
        "  int_value = int(Input_value)\n",
        "except ValueError :\n",
        "  print(\"Invalid input. Please enter a valid integer.\")\n",
        "try :\n",
        "  float_value = float(Input_value)\n",
        "except ValueError:\n",
        "    print(\"Invalid input. Please enter a valid float.\")\n",
        "boolean_value = bool(Input_value)\n",
        "print(\"Integer value:\", int_value)\n",
        "print(\"Float value:\", float_value)\n",
        "print(\"Boolean value:\", boolean_value)\n"
      ],
      "metadata": {
        "id": "C_v956AkaKr0",
        "colab": {
          "base_uri": "https://localhost:8080/"
        },
        "outputId": "afe79c7b-4184-496e-e2b5-5e18893ec7de"
      },
      "execution_count": 27,
      "outputs": [
        {
          "output_type": "stream",
          "name": "stdout",
          "text": [
            "Enter a value:10\n",
            "Integer value: 10\n",
            "Float value: 10.0\n",
            "Boolean value: True\n"
          ]
        }
      ]
    },
    {
      "cell_type": "code",
      "source": [
        "# 10. Write code to demonstrate type casting with list elements.\n",
        "str_list = [\"5\",\"10\",\"15\",\"20\",\"25\"]\n",
        "int_list = [ int(x) for x in str_list]\n",
        "print(\"String list:\", str_list)\n",
        "print(\"Integer list:\", int_list)\n",
        "float_list = [float(x) for x in str_list]\n",
        "print(\"Float list:\", float_list)\n",
        "bool_list = [bool(x) for x in str_list]\n",
        "print(\"Boolean list:\", bool_list)"
      ],
      "metadata": {
        "colab": {
          "base_uri": "https://localhost:8080/"
        },
        "id": "qXa54bT4j3IS",
        "outputId": "7758b496-427d-4579-cb69-64c8002c82e0"
      },
      "execution_count": 28,
      "outputs": [
        {
          "output_type": "stream",
          "name": "stdout",
          "text": [
            "String list: ['5', '10', '15', '20', '25']\n",
            "Integer list: [5, 10, 15, 20, 25]\n",
            "Float list: [5.0, 10.0, 15.0, 20.0, 25.0]\n",
            "Boolean list: [True, True, True, True, True]\n"
          ]
        }
      ]
    },
    {
      "cell_type": "code",
      "source": [
        "# 10. Write a program that checks if a number is positive, negative, or zero.\n",
        "num = float(input(\"Enter a number: \"))\n",
        "if num > 0:\n",
        "    print (\"Number is positive\")\n",
        "if num == 0 :\n",
        "    print(\"Number is zero\")\n",
        "if num < 0 :\n",
        "    print(\"Number is negative\")"
      ],
      "metadata": {
        "colab": {
          "base_uri": "https://localhost:8080/"
        },
        "id": "tGgdE9_Vni56",
        "outputId": "aa232db0-82fd-4d2a-c3ba-b147edaa3cef"
      },
      "execution_count": 29,
      "outputs": [
        {
          "output_type": "stream",
          "name": "stdout",
          "text": [
            "Enter a number: 12\n",
            "Number is positive\n"
          ]
        }
      ]
    },
    {
      "cell_type": "code",
      "source": [
        "# 13. Write a for loop to print numbers from 1 to 10.\n",
        "for i in range(1,11):\n",
        "  print(i)\n",
        "\n",
        "\n"
      ],
      "metadata": {
        "colab": {
          "base_uri": "https://localhost:8080/"
        },
        "id": "oLoEZ7_g5Bnb",
        "outputId": "a3a9aa50-5568-4a07-d87b-36d4ee19f7d3"
      },
      "execution_count": 30,
      "outputs": [
        {
          "output_type": "stream",
          "name": "stdout",
          "text": [
            "1\n",
            "2\n",
            "3\n",
            "4\n",
            "5\n",
            "6\n",
            "7\n",
            "8\n",
            "9\n",
            "10\n"
          ]
        }
      ]
    },
    {
      "cell_type": "code",
      "source": [
        "# 14. Write a program to reverse a string using a while loop\n",
        "Org_string = input(\"Enter a string: \")\n",
        "reversed_string = \"\"\n",
        "index = len(Org_string) - 1\n",
        "while index >= 0:\n",
        "    reversed_string += Org_string[index]\n",
        "    index -= 1\n",
        "print(\"Reversed string:\", reversed_string)\n"
      ],
      "metadata": {
        "colab": {
          "base_uri": "https://localhost:8080/"
        },
        "id": "AGzf4ppgHknI",
        "outputId": "4341619c-79e3-42f4-d83d-b335df071428"
      },
      "execution_count": 31,
      "outputs": [
        {
          "output_type": "stream",
          "name": "stdout",
          "text": [
            "Enter a string: Othello\n",
            "Reversed string: ollehtO\n"
          ]
        }
      ]
    },
    {
      "cell_type": "code",
      "source": [
        "# 15.  Write a Python program to calculate the factorial of a number provided by the user using a while loop.\n",
        "num = int(input(\"Enter a number: \"))\n",
        "factorial = 1\n",
        "current_number = 1\n",
        "while current_number <= num:\n",
        "    factorial *= current_number\n",
        "    current_number += 1\n",
        "print(\"Factorial of\", num, \"is\", factorial)"
      ],
      "metadata": {
        "colab": {
          "base_uri": "https://localhost:8080/"
        },
        "id": "TXsgnAzAIxWx",
        "outputId": "b159dcbb-9d3d-473c-f1e3-5eea201db8dd"
      },
      "execution_count": 32,
      "outputs": [
        {
          "output_type": "stream",
          "name": "stdout",
          "text": [
            "Enter a number: 5\n",
            "Factorial of 5 is 120\n"
          ]
        }
      ]
    },
    {
      "cell_type": "code",
      "source": [],
      "metadata": {
        "id": "bLi3H7GEJKpv"
      },
      "execution_count": null,
      "outputs": []
    }
  ]
}